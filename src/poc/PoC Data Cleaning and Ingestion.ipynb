{
 "cells": [
  {
   "cell_type": "markdown",
   "metadata": {},
   "source": [
    "# PoC: Airlines Data Cleaning and Ingestion"
   ]
  },
  {
   "cell_type": "code",
   "execution_count": 1,
   "metadata": {
    "collapsed": true
   },
   "outputs": [],
   "source": [
    "import pandas as pd\n",
    "import numpy as np\n",
    "\n",
    "PROJ_PATH = \"/data/\"\n",
    "\n",
    "DATA_IN_PREFIX = \"orig/\"\n",
    "DATA_OUT_PREFIX = \"processed/\"\n",
    "\n",
    "# Load data from Excel sheets.\n",
    "airlines_raw = pd.read_excel(PROJ_PATH + DATA_IN_PREFIX + \"20180102 Airlines.xlsx\")\n",
    "airports_raw = pd.read_excel(PROJ_PATH + DATA_IN_PREFIX + \"20180102 Airports.xlsx\")\n",
    "routes_raw = pd.read_excel(PROJ_PATH + DATA_IN_PREFIX + \"20180102 Routes.xlsx\")"
   ]
  },
  {
   "cell_type": "markdown",
   "metadata": {},
   "source": [
    "## Data Exploration\n",
    "\n",
    "Let's do some basic exploration. What does the head of the airlines data look like?"
   ]
  },
  {
   "cell_type": "code",
   "execution_count": 4,
   "metadata": {},
   "outputs": [
    {
     "data": {
      "text/html": [
       "<div>\n",
       "<style>\n",
       "    .dataframe thead tr:only-child th {\n",
       "        text-align: right;\n",
       "    }\n",
       "\n",
       "    .dataframe thead th {\n",
       "        text-align: left;\n",
       "    }\n",
       "\n",
       "    .dataframe tbody tr th {\n",
       "        vertical-align: top;\n",
       "    }\n",
       "</style>\n",
       "<table border=\"1\" class=\"dataframe\">\n",
       "  <thead>\n",
       "    <tr style=\"text-align: right;\">\n",
       "      <th></th>\n",
       "      <th>Airline ID</th>\n",
       "      <th>Airline Name</th>\n",
       "      <th>Airline Alias</th>\n",
       "      <th>IATA Code</th>\n",
       "      <th>ICAO Code</th>\n",
       "      <th>Airline Callsign</th>\n",
       "      <th>Airline Country</th>\n",
       "      <th>Airline Operational?</th>\n",
       "    </tr>\n",
       "  </thead>\n",
       "  <tbody>\n",
       "    <tr>\n",
       "      <th>0</th>\n",
       "      <td>-1</td>\n",
       "      <td>Unknown</td>\n",
       "      <td>\\N</td>\n",
       "      <td>-</td>\n",
       "      <td>NaN</td>\n",
       "      <td>\\N</td>\n",
       "      <td>\\N</td>\n",
       "      <td>Y</td>\n",
       "    </tr>\n",
       "    <tr>\n",
       "      <th>1</th>\n",
       "      <td>1</td>\n",
       "      <td>Private flight</td>\n",
       "      <td>\\N</td>\n",
       "      <td>-</td>\n",
       "      <td>NaN</td>\n",
       "      <td>NaN</td>\n",
       "      <td>NaN</td>\n",
       "      <td>Y</td>\n",
       "    </tr>\n",
       "    <tr>\n",
       "      <th>2</th>\n",
       "      <td>2</td>\n",
       "      <td>135 Airways</td>\n",
       "      <td>\\N</td>\n",
       "      <td>NaN</td>\n",
       "      <td>GNL</td>\n",
       "      <td>GENERAL</td>\n",
       "      <td>United States</td>\n",
       "      <td>N</td>\n",
       "    </tr>\n",
       "    <tr>\n",
       "      <th>3</th>\n",
       "      <td>3</td>\n",
       "      <td>1Time Airline</td>\n",
       "      <td>\\N</td>\n",
       "      <td>1T</td>\n",
       "      <td>RNX</td>\n",
       "      <td>NEXTIME</td>\n",
       "      <td>South Africa</td>\n",
       "      <td>Y</td>\n",
       "    </tr>\n",
       "    <tr>\n",
       "      <th>4</th>\n",
       "      <td>4</td>\n",
       "      <td>2 Sqn No 1 Elementary Flying Training School</td>\n",
       "      <td>\\N</td>\n",
       "      <td>NaN</td>\n",
       "      <td>WYT</td>\n",
       "      <td>NaN</td>\n",
       "      <td>UK</td>\n",
       "      <td>N</td>\n",
       "    </tr>\n",
       "  </tbody>\n",
       "</table>\n",
       "</div>"
      ],
      "text/plain": [
       "   Airline ID                                  Airline Name Airline Alias  \\\n",
       "0          -1                                       Unknown            \\N   \n",
       "1           1                                Private flight            \\N   \n",
       "2           2                                   135 Airways            \\N   \n",
       "3           3                                 1Time Airline            \\N   \n",
       "4           4  2 Sqn No 1 Elementary Flying Training School            \\N   \n",
       "\n",
       "  IATA Code ICAO Code Airline Callsign Airline Country Airline Operational?  \n",
       "0         -       NaN               \\N              \\N                    Y  \n",
       "1         -       NaN              NaN             NaN                    Y  \n",
       "2       NaN       GNL          GENERAL   United States                    N  \n",
       "3        1T       RNX          NEXTIME    South Africa                    Y  \n",
       "4       NaN       WYT              NaN              UK                    N  "
      ]
     },
     "execution_count": 4,
     "metadata": {},
     "output_type": "execute_result"
    }
   ],
   "source": [
    "airlines_raw.head()\n"
   ]
  },
  {
   "cell_type": "markdown",
   "metadata": {},
   "source": [
    "Looks like the first line is dodgy.\n",
    "\n",
    "Next, let's look at the datatypes and percentage of missing, i.e. **nan** / **null** data:"
   ]
  },
  {
   "cell_type": "code",
   "execution_count": 6,
   "metadata": {},
   "outputs": [
    {
     "name": "stdout",
     "output_type": "stream",
     "text": [
      "Data types:\n",
      "\n",
      "Airline ID               int64\n",
      "Airline Name            object\n",
      "Airline Alias           object\n",
      "IATA Code               object\n",
      "ICAO Code               object\n",
      "Airline Callsign        object\n",
      "Airline Country         object\n",
      "Airline Operational?    object\n",
      "dtype: object\n",
      "\n",
      "\n",
      "\n",
      "\n",
      "Airlines data\n",
      "\n",
      "Airline ID               0.0\n",
      "Airline Name             0.0\n",
      "Airline Alias            8.0\n",
      "IATA Code               75.0\n",
      "ICAO Code                1.0\n",
      "Airline Callsign        13.0\n",
      "Airline Country          0.0\n",
      "Airline Operational?     0.0\n",
      "dtype: float64\n",
      "\n",
      "Airports data\n",
      "\n",
      "\n",
      "Airport ID           0.0\n",
      "Airport Name         0.0\n",
      "Airport City         1.0\n",
      "Airport Country      0.0\n",
      "IATA Code            0.0\n",
      "ICAO Code            0.0\n",
      "Latitude             0.0\n",
      "Longitude            0.0\n",
      "Altitude             0.0\n",
      "Timezone Offset      4.0\n",
      "DST                  0.0\n",
      "Timezone             0.0\n",
      "Unnamed: 12        100.0\n",
      "Unnamed: 13        100.0\n",
      "dtype: float64\n",
      "\n",
      "Routes data\n",
      "\n",
      "\n",
      "Airline                    0.0\n",
      "Airline ID                 0.0\n",
      "Source Airport             0.0\n",
      "Source Airport ID          0.0\n",
      "Destination Airport        0.0\n",
      "Destination Airport ID     0.0\n",
      "Codeshare?                78.0\n",
      "No Stops                   0.0\n",
      "Equipment                  0.0\n",
      "dtype: float64\n"
     ]
    }
   ],
   "source": [
    "## Look at airline types.\n",
    "print(\"Data types:\\n\")\n",
    "print(airlines_raw.dtypes)\n",
    "\n",
    "print(\"\\n\\n\")\n",
    "\n",
    "# What percentages of actual missing data do we have?\n",
    "# Note: Missing means NaN; there are other types of flaws in the data which we'll get to later.\n",
    "def print_perc_missing(df):\n",
    "    \"\"\"\n",
    "    Prints what percentage of data is missing for each column.\n",
    "    \n",
    "    CAVEAT: Only checks for nan, not other data defects, e.g. \"\\\\N\" entries etc.\n",
    "    \"\"\"\n",
    "    print(round(df.isnull().sum() / df.shape[0] * 100))\n",
    "    \n",
    "print(\"\\nAirlines data\\n\")\n",
    "print_perc_missing(airlines_raw)\n",
    "\n",
    "## RES:\n",
    "## Airline aliases flawed.\n",
    "## Most IATA codes are rubbish. Many nan, and other issues.\n",
    "## ICAO codes have nans and other problems.\n",
    "## Further, 13% of airline callsigns are flawed.\n",
    "\n",
    "\n",
    "#%%\n",
    "print(\"\\nAirports data\\n\\n\")\n",
    "print_perc_missing(airports_raw)\n",
    "## Airport cities seems to be an issue. \n",
    "## Timezone offset too.\n",
    "## NOTE: Some IATA codes are \\N --> not NaN! Need to fix this too.\n",
    "## Need to fix cities if we want to use it as a key.\n",
    "## There are two unnamed columns. Could probably just delete those as they only contain NaNs.\n",
    "\n",
    "#%%\n",
    "print(\"\\nRoutes data\\n\\n\")\n",
    "print_perc_missing(routes_raw)\n",
    "\n",
    "## RES: Codeshare is totally useless. Rest seems OK for now."
   ]
  },
  {
   "cell_type": "markdown",
   "metadata": {},
   "source": [
    "Now we would like to check the dimensionality of the data:"
   ]
  },
  {
   "cell_type": "code",
   "execution_count": 9,
   "metadata": {},
   "outputs": [
    {
     "name": "stdout",
     "output_type": "stream",
     "text": [
      "\n",
      "Dimensions...\n",
      "(6162, 8)\n",
      "(7184, 14)\n",
      "(67663, 9)\n"
     ]
    },
    {
     "data": {
      "text/plain": [
       "[None, None, None]"
      ]
     },
     "execution_count": 9,
     "metadata": {},
     "output_type": "execute_result"
    }
   ],
   "source": [
    "all_dta = [airlines_raw, airports_raw, routes_raw]\n",
    "\n",
    "## Print dimensions.\n",
    "print(\"\\nDimensions...\")\n",
    "list(map(lambda x: print(x.shape), all_dta))"
   ]
  },
  {
   "cell_type": "markdown",
   "metadata": {},
   "source": [
    "### Results\n",
    "\n",
    "* Routes has the largest amount of entries, ~68k rows.\n",
    "* Probably also the most scalable part of the data as new routes will be created, or existing ones updated.\n",
    "* Need to understand unit of scale in new routes."
   ]
  },
  {
   "cell_type": "code",
   "execution_count": null,
   "metadata": {
    "collapsed": true
   },
   "outputs": [],
   "source": []
  }
 ],
 "metadata": {
  "kernelspec": {
   "display_name": "Python 3",
   "language": "python",
   "name": "python3"
  },
  "language_info": {
   "codemirror_mode": {
    "name": "ipython",
    "version": 3
   },
   "file_extension": ".py",
   "mimetype": "text/x-python",
   "name": "python",
   "nbconvert_exporter": "python",
   "pygments_lexer": "ipython3",
   "version": "3.6.3"
  }
 },
 "nbformat": 4,
 "nbformat_minor": 2
}
